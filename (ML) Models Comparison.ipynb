{
 "cells": [
  {
   "cell_type": "code",
   "execution_count": 1,
   "id": "fcebb66e-1cb6-457d-bbd4-2a33faa4ae71",
   "metadata": {},
   "outputs": [],
   "source": [
    "import pandas as pd\n",
    "import numpy as np\n",
    "import matplotlib.pyplot as plt\n",
    "import seaborn as sns"
   ]
  },
  {
   "cell_type": "markdown",
   "id": "af65fb3b-c25c-4264-ad8a-8a02c3ce5d51",
   "metadata": {},
   "source": [
    "### Import Dataset"
   ]
  },
  {
   "cell_type": "code",
   "execution_count": 92,
   "id": "6a121ca0-df07-4cf2-9164-dfadf0eede43",
   "metadata": {},
   "outputs": [
    {
     "data": {
      "text/html": [
       "<div>\n",
       "<style scoped>\n",
       "    .dataframe tbody tr th:only-of-type {\n",
       "        vertical-align: middle;\n",
       "    }\n",
       "\n",
       "    .dataframe tbody tr th {\n",
       "        vertical-align: top;\n",
       "    }\n",
       "\n",
       "    .dataframe thead th {\n",
       "        text-align: right;\n",
       "    }\n",
       "</style>\n",
       "<table border=\"1\" class=\"dataframe\">\n",
       "  <thead>\n",
       "    <tr style=\"text-align: right;\">\n",
       "      <th></th>\n",
       "      <th>Administrative</th>\n",
       "      <th>Administrative_Duration</th>\n",
       "      <th>Informational</th>\n",
       "      <th>Informational_Duration</th>\n",
       "      <th>ProductRelated</th>\n",
       "      <th>ProductRelated_Duration</th>\n",
       "      <th>BounceRates</th>\n",
       "      <th>ExitRates</th>\n",
       "      <th>PageValues</th>\n",
       "      <th>SpecialDay</th>\n",
       "      <th>Month</th>\n",
       "      <th>OperatingSystems</th>\n",
       "      <th>Browser</th>\n",
       "      <th>Region</th>\n",
       "      <th>TrafficType</th>\n",
       "      <th>VisitorType</th>\n",
       "      <th>Weekend</th>\n",
       "      <th>Revenue</th>\n",
       "    </tr>\n",
       "  </thead>\n",
       "  <tbody>\n",
       "    <tr>\n",
       "      <th>0</th>\n",
       "      <td>0</td>\n",
       "      <td>0.0</td>\n",
       "      <td>0</td>\n",
       "      <td>0.0</td>\n",
       "      <td>1</td>\n",
       "      <td>0.000000</td>\n",
       "      <td>0.20</td>\n",
       "      <td>0.20</td>\n",
       "      <td>0.0</td>\n",
       "      <td>0.0</td>\n",
       "      <td>Feb</td>\n",
       "      <td>1</td>\n",
       "      <td>1</td>\n",
       "      <td>1</td>\n",
       "      <td>1</td>\n",
       "      <td>Returning_Visitor</td>\n",
       "      <td>False</td>\n",
       "      <td>False</td>\n",
       "    </tr>\n",
       "    <tr>\n",
       "      <th>1</th>\n",
       "      <td>0</td>\n",
       "      <td>0.0</td>\n",
       "      <td>0</td>\n",
       "      <td>0.0</td>\n",
       "      <td>2</td>\n",
       "      <td>64.000000</td>\n",
       "      <td>0.00</td>\n",
       "      <td>0.10</td>\n",
       "      <td>0.0</td>\n",
       "      <td>0.0</td>\n",
       "      <td>Feb</td>\n",
       "      <td>2</td>\n",
       "      <td>2</td>\n",
       "      <td>1</td>\n",
       "      <td>2</td>\n",
       "      <td>Returning_Visitor</td>\n",
       "      <td>False</td>\n",
       "      <td>False</td>\n",
       "    </tr>\n",
       "    <tr>\n",
       "      <th>2</th>\n",
       "      <td>0</td>\n",
       "      <td>0.0</td>\n",
       "      <td>0</td>\n",
       "      <td>0.0</td>\n",
       "      <td>1</td>\n",
       "      <td>0.000000</td>\n",
       "      <td>0.20</td>\n",
       "      <td>0.20</td>\n",
       "      <td>0.0</td>\n",
       "      <td>0.0</td>\n",
       "      <td>Feb</td>\n",
       "      <td>4</td>\n",
       "      <td>1</td>\n",
       "      <td>9</td>\n",
       "      <td>3</td>\n",
       "      <td>Returning_Visitor</td>\n",
       "      <td>False</td>\n",
       "      <td>False</td>\n",
       "    </tr>\n",
       "    <tr>\n",
       "      <th>3</th>\n",
       "      <td>0</td>\n",
       "      <td>0.0</td>\n",
       "      <td>0</td>\n",
       "      <td>0.0</td>\n",
       "      <td>2</td>\n",
       "      <td>2.666667</td>\n",
       "      <td>0.05</td>\n",
       "      <td>0.14</td>\n",
       "      <td>0.0</td>\n",
       "      <td>0.0</td>\n",
       "      <td>Feb</td>\n",
       "      <td>3</td>\n",
       "      <td>2</td>\n",
       "      <td>2</td>\n",
       "      <td>4</td>\n",
       "      <td>Returning_Visitor</td>\n",
       "      <td>False</td>\n",
       "      <td>False</td>\n",
       "    </tr>\n",
       "    <tr>\n",
       "      <th>4</th>\n",
       "      <td>0</td>\n",
       "      <td>0.0</td>\n",
       "      <td>0</td>\n",
       "      <td>0.0</td>\n",
       "      <td>10</td>\n",
       "      <td>627.500000</td>\n",
       "      <td>0.02</td>\n",
       "      <td>0.05</td>\n",
       "      <td>0.0</td>\n",
       "      <td>0.0</td>\n",
       "      <td>Feb</td>\n",
       "      <td>3</td>\n",
       "      <td>3</td>\n",
       "      <td>1</td>\n",
       "      <td>4</td>\n",
       "      <td>Returning_Visitor</td>\n",
       "      <td>True</td>\n",
       "      <td>False</td>\n",
       "    </tr>\n",
       "  </tbody>\n",
       "</table>\n",
       "</div>"
      ],
      "text/plain": [
       "   Administrative  Administrative_Duration  Informational  \\\n",
       "0               0                      0.0              0   \n",
       "1               0                      0.0              0   \n",
       "2               0                      0.0              0   \n",
       "3               0                      0.0              0   \n",
       "4               0                      0.0              0   \n",
       "\n",
       "   Informational_Duration  ProductRelated  ProductRelated_Duration  \\\n",
       "0                     0.0               1                 0.000000   \n",
       "1                     0.0               2                64.000000   \n",
       "2                     0.0               1                 0.000000   \n",
       "3                     0.0               2                 2.666667   \n",
       "4                     0.0              10               627.500000   \n",
       "\n",
       "   BounceRates  ExitRates  PageValues  SpecialDay Month  OperatingSystems  \\\n",
       "0         0.20       0.20         0.0         0.0   Feb                 1   \n",
       "1         0.00       0.10         0.0         0.0   Feb                 2   \n",
       "2         0.20       0.20         0.0         0.0   Feb                 4   \n",
       "3         0.05       0.14         0.0         0.0   Feb                 3   \n",
       "4         0.02       0.05         0.0         0.0   Feb                 3   \n",
       "\n",
       "   Browser  Region  TrafficType        VisitorType  Weekend  Revenue  \n",
       "0        1       1            1  Returning_Visitor    False    False  \n",
       "1        2       1            2  Returning_Visitor    False    False  \n",
       "2        1       9            3  Returning_Visitor    False    False  \n",
       "3        2       2            4  Returning_Visitor    False    False  \n",
       "4        3       1            4  Returning_Visitor     True    False  "
      ]
     },
     "execution_count": 92,
     "metadata": {},
     "output_type": "execute_result"
    }
   ],
   "source": [
    "df = pd.read_csv('/Users/supisara/Desktop/ML dataset/online_shoppers_intention.csv')\n",
    "df.head()"
   ]
  },
  {
   "cell_type": "markdown",
   "id": "9fdf6fde-da2d-4be1-a79b-ecc46e355ab1",
   "metadata": {},
   "source": [
    "### Preprocessing"
   ]
  },
  {
   "cell_type": "code",
   "execution_count": 5,
   "id": "208bbf3e-c21d-47ff-a123-9110a1124769",
   "metadata": {},
   "outputs": [],
   "source": [
    "from sklearn.preprocessing import StandardScaler, OneHotEncoder\n",
    "from sklearn.compose import ColumnTransformer\n",
    "from sklearn.pipeline import Pipeline\n",
    "\n",
    "# Convert booleans to binary and ensure categorical consistency\n",
    "df['Revenue'] = df['Revenue'].astype(int)\n",
    "df['Weekend'] = df['Weekend'].astype(int)\n",
    "df['VisitorType'] = df['VisitorType'].astype(str)\n",
    "\n",
    "# Separate features and target variable\n",
    "X = df.drop(columns='Revenue')\n",
    "y = df['Revenue']\n",
    "\n",
    "# Specify categorical and numerical columns\n",
    "categorical_cols = ['Month', 'VisitorType']\n",
    "numeric_cols = X.select_dtypes(include=['int64', 'float64']).columns.drop(['Weekend']).tolist()\n",
    "\n",
    "# Define preprocessing pipeline: scale numeric features and encode categorical ones\n",
    "preprocessor = ColumnTransformer(\n",
    "    transformers=[\n",
    "        ('num', StandardScaler(), numeric_cols),\n",
    "        ('cat', OneHotEncoder(handle_unknown='ignore'), categorical_cols)\n",
    "    ],\n",
    "    remainder='passthrough'\n",
    ")"
   ]
  },
  {
   "cell_type": "markdown",
   "id": "89e5b6c4-8960-4bb0-b39b-67e0721b6c99",
   "metadata": {},
   "source": [
    "### Imports and CV setting"
   ]
  },
  {
   "cell_type": "code",
   "execution_count": 94,
   "id": "8857edf4-de0d-4b60-93cf-ce17964dfb31",
   "metadata": {},
   "outputs": [],
   "source": [
    "from imblearn.pipeline import Pipeline as ImbPipeline\n",
    "from imblearn.over_sampling import SMOTE\n",
    "from sklearn.model_selection import cross_val_score, StratifiedKFold\n",
    "from sklearn.metrics import make_scorer, f1_score\n",
    "\n",
    "# Create consistent evaluation setup\n",
    "cv = StratifiedKFold(n_splits=5, shuffle=True, random_state=42)\n",
    "scorer = make_scorer(f1_score, pos_label=1, average='binary')"
   ]
  },
  {
   "cell_type": "markdown",
   "id": "29b24052-c200-40b6-907e-66e51a58afe8",
   "metadata": {},
   "source": [
    "### Logistic Regression"
   ]
  },
  {
   "cell_type": "code",
   "execution_count": 17,
   "id": "4e132bfb-c171-4521-b5a2-7dcd405448c7",
   "metadata": {},
   "outputs": [
    {
     "name": "stdout",
     "output_type": "stream",
     "text": [
      "LR Scores Across Folds: [0.61682243 0.5941873  0.59613428 0.60817547 0.60887949]\n",
      "LR F1 Mean: 0.6048397954128066\n",
      "LR F1 Std Dev: 0.008488711078035128\n"
     ]
    }
   ],
   "source": [
    "from sklearn.linear_model import LogisticRegression\n",
    "\n",
    "# Build a Logistic Regression pipeline\n",
    "lr_pipeline = ImbPipeline([\n",
    "    ('preprocessor', preprocessor), # Handle scaling and encoding\n",
    "    ('smote', SMOTE(random_state=42)), # Oversample the minority class\n",
    "    ('classifier', LogisticRegression(max_iter=1000, random_state=42)) # Ensure convergence and reproducibility\n",
    "])\n",
    "\n",
    "# Evaluate using stratified CV and F1 score\n",
    "lr_scores = cross_val_score(lr_pipeline, X, y, cv=cv, scoring=scorer, error_score='raise', n_jobs=-1)\n",
    "\n",
    "# Print results\n",
    "print(\"LR Scores Across Folds:\", lr_scores)\n",
    "print(\"LR F1 Mean:\", lr_scores.mean())\n",
    "print(\"LR F1 Std Dev:\", lr_scores.std())"
   ]
  },
  {
   "cell_type": "markdown",
   "id": "6e7fa823-3cdf-4905-811b-4d29381bbc5f",
   "metadata": {},
   "source": [
    "### K-Nearest Neighbours"
   ]
  },
  {
   "cell_type": "code",
   "execution_count": 15,
   "id": "2c740bbb-2cd8-4a0c-b6ce-1bce9974179b",
   "metadata": {},
   "outputs": [
    {
     "name": "stdout",
     "output_type": "stream",
     "text": [
      "KNN Scores Across Folds: [0.49198869 0.4934334  0.5027933  0.52007299 0.49861496]\n",
      "KNN F1 Mean: 0.5013806666052927\n",
      "KNN F1 Std Dev: 0.010103623674444104\n"
     ]
    }
   ],
   "source": [
    "from sklearn.neighbors import KNeighborsClassifier\n",
    "\n",
    "# Build a KNN pipeline\n",
    "knn_pipeline = ImbPipeline(steps=[\n",
    "    ('preprocessor', preprocessor), # Handle scaling and encoding\n",
    "    ('smote', SMOTE(random_state=42)), # Oversample the minority class\n",
    "    ('knn', KNeighborsClassifier(n_neighbors=5)) # KNN with k=5\n",
    "])\n",
    "\n",
    "# Evaluate using stratified CV and F1 score\n",
    "knn_scores = cross_val_score(knn_pipeline, X, y, cv=cv, scoring=scorer, error_score='raise', n_jobs=-1)\n",
    "\n",
    "# Print results\n",
    "print(\"KNN Scores Across Folds:\", knn_scores)\n",
    "print(\"KNN F1 Mean:\", knn_scores.mean())\n",
    "print(\"KNN F1 Std Dev:\", knn_scores.std())"
   ]
  },
  {
   "cell_type": "markdown",
   "id": "c43fe815-43bd-453c-9882-6736d72d9dc0",
   "metadata": {},
   "source": [
    "### Support Vector Machine"
   ]
  },
  {
   "cell_type": "code",
   "execution_count": 39,
   "id": "023af6b2-6e44-47f7-a246-74966fcd9524",
   "metadata": {},
   "outputs": [
    {
     "name": "stdout",
     "output_type": "stream",
     "text": [
      "SVM Scores Across Folds: [0.65866957 0.64871194 0.64197531 0.6652221  0.65384615]\n",
      "SVM F1 Mean: 0.6536850165647938\n",
      "SVM F1 Std Dev: 0.007997810127020699\n"
     ]
    }
   ],
   "source": [
    "from sklearn.svm import SVC\n",
    "\n",
    "# Build a SVM pipeline\n",
    "svm_pipeline = ImbPipeline([\n",
    "    ('preprocessor', preprocessor), # Handle scaling and encoding\n",
    "    ('smote', SMOTE(random_state=42)), # Oversample the minority class\n",
    "    ('classifier', SVC(kernel='linear', probability=True, random_state=42)) # Linear SVM with probability estimates\n",
    "])\n",
    "\n",
    "# Evaluate using stratified CV and F1 score\n",
    "svm_scores = cross_val_score(svm_pipeline, X, y, cv=cv, scoring=scorer, error_score='raise', n_jobs=-1)\n",
    "\n",
    "# Print results\n",
    "print(\"SVM Scores Across Folds:\", svm_scores)\n",
    "print(\"SVM F1 Mean:\", svm_scores.mean())\n",
    "print(\"SVM F1 Std Dev:\", svm_scores.std())"
   ]
  },
  {
   "cell_type": "markdown",
   "id": "55afe8b5-8b1a-4e36-a02b-eaa73d4f759c",
   "metadata": {},
   "source": [
    "### Random Forest"
   ]
  },
  {
   "cell_type": "code",
   "execution_count": 13,
   "id": "2564624d-8502-41b8-9f37-cfd7988cbd89",
   "metadata": {},
   "outputs": [
    {
     "name": "stdout",
     "output_type": "stream",
     "text": [
      "RF Scores Across Folds: [0.70483461 0.66666667 0.68238213 0.6957606  0.66918239]\n",
      "RF F1 Mean: 0.6837652789401032\n",
      "RF F1 Std Dev: 0.014796894948194582\n"
     ]
    }
   ],
   "source": [
    "from sklearn.ensemble import RandomForestClassifier\n",
    "\n",
    "# Build a Random Forest pipeline\n",
    "rf_pipeline = ImbPipeline([\n",
    "    ('preprocessor', preprocessor), # Handle scaling and encoding\n",
    "    ('smote', SMOTE(random_state=42)), # Oversample the minority class\n",
    "    ('classifier', RandomForestClassifier(random_state=42)) # Ensure reproducibility\n",
    "])\n",
    "\n",
    "# Evaluate using stratified CV and F1 score\n",
    "rf_scores = cross_val_score(rf_pipeline, X, y, cv=cv, scoring=scorer, error_score='raise', n_jobs=-1)\n",
    "\n",
    "# Print results\n",
    "print(\"RF Scores Across Folds:\", rf_scores)\n",
    "print(\"RF F1 Mean:\", rf_scores.mean())\n",
    "print(\"RF F1 Std Dev:\", rf_scores.std())"
   ]
  },
  {
   "cell_type": "markdown",
   "id": "686bba5c-5135-4861-8fdf-69cf16ec00b6",
   "metadata": {},
   "source": [
    "### XGBoost"
   ]
  },
  {
   "cell_type": "code",
   "execution_count": 86,
   "id": "9fd13a22-2e26-479a-89b2-f666323a0cf4",
   "metadata": {},
   "outputs": [
    {
     "name": "stdout",
     "output_type": "stream",
     "text": [
      "XGB Scores Across Folds: [0.67297297 0.63673469 0.66666667 0.65768194 0.64456233]\n",
      "XGB F1 Mean: 0.6557237216871011\n",
      "XGB F1 Std Dev: 0.013463128045538928\n"
     ]
    }
   ],
   "source": [
    "from xgboost import XGBClassifier\n",
    "\n",
    "# Build a XGBoost pipeline\n",
    "xgb_pipeline = ImbPipeline([\n",
    "    ('preprocessor', preprocessor), # Handle scaling and encoding\n",
    "    ('smote', SMOTE(random_state=42)), # Oversample the minority class\n",
    "    ('classifier', XGBClassifier(eval_metric='logloss', random_state=42)) # Use log loss metric and ensure reproducibility\n",
    "])\n",
    "\n",
    "# Evaluate using stratified CV and F1 score\n",
    "xgb_scores = cross_val_score(xgb_pipeline, X, y, cv=cv, scoring=scorer, error_score='raise', n_jobs=-1)\n",
    "\n",
    "# Print results\n",
    "print(\"XGB Scores Across Folds:\", xgb_scores)\n",
    "print(\"XGB F1 Mean:\", xgb_scores.mean())\n",
    "print(\"XGB F1 Std Dev:\", xgb_scores.std())"
   ]
  },
  {
   "cell_type": "markdown",
   "id": "710cad82-7822-4232-a713-de67443d8cd9",
   "metadata": {},
   "source": [
    "### Model Comparison"
   ]
  },
  {
   "cell_type": "code",
   "execution_count": 37,
   "id": "bb01fb31-cb26-40d8-85fc-b9ef9ff3fd14",
   "metadata": {},
   "outputs": [
    {
     "name": "stdout",
     "output_type": "stream",
     "text": [
      "                 Model   F1 Mean  F1 Std Dev\n",
      "0  Logistic Regression  0.604840    0.008489\n",
      "1                  KNN  0.501381    0.010104\n",
      "2                  SVM  0.653685    0.007998\n",
      "3        Random Forest  0.683765    0.014797\n",
      "4              XGBoost  0.655724    0.013463\n"
     ]
    }
   ],
   "source": [
    "import pandas as pd\n",
    "\n",
    "# Create a DataFrame summarising model performance with F1 scores\n",
    "results_df = pd.DataFrame({\n",
    "    'Model': ['Logistic Regression', 'KNN', 'SVM', 'Random Forest', 'XGBoost'],\n",
    "    'F1 Mean': [lr_scores.mean(), knn_scores.mean(),  svm_scores.mean(), rf_scores.mean(), xgb_scores.mean()],\n",
    "    'F1 Std Dev': [lr_scores.std(), knn_scores.std(), svm_scores.std(), rf_scores.std(), xgb_scores.std()]\n",
    "})\n",
    "\n",
    "# Print results\n",
    "print(results_df)"
   ]
  },
  {
   "cell_type": "markdown",
   "id": "9579df97-a067-4d05-8621-06367a44e5b8",
   "metadata": {},
   "source": [
    "### Boxplots Comparison"
   ]
  },
  {
   "cell_type": "code",
   "execution_count": 88,
   "id": "d15b27fe-51b4-4e04-a2e7-dd343a853cf2",
   "metadata": {},
   "outputs": [
    {
     "data": {
      "image/png": "[encoded data removed]",
      "text/plain": [
       "<Figure size 1200x600 with 1 Axes>"
      ]
     },
     "metadata": {},
     "output_type": "display_data"
    }
   ],
   "source": [
    "from imblearn.pipeline import Pipeline as ImbPipeline\n",
    "from imblearn.over_sampling import SMOTE\n",
    "from sklearn.model_selection import cross_val_score, StratifiedKFold\n",
    "from sklearn.metrics import make_scorer, f1_score\n",
    "import numpy as np\n",
    "\n",
    "\n",
    "# Define models\n",
    "models = {\n",
    "    'Logistic Regression': ImbPipeline([\n",
    "        ('preprocessor', preprocessor),\n",
    "        ('smote', SMOTE(random_state=42)),\n",
    "        ('classifier', LogisticRegression(max_iter=1000, random_state=42))\n",
    "    ]),\n",
    "    'KNN': ImbPipeline([\n",
    "        ('preprocessor', preprocessor),\n",
    "        ('smote', SMOTE(random_state=42)),\n",
    "        ('classifier', KNeighborsClassifier(n_neighbors=5))\n",
    "    ]),\n",
    "     'SVM': ImbPipeline([\n",
    "        ('preprocessor', preprocessor),\n",
    "        ('smote', SMOTE(random_state=42)),\n",
    "        ('classifier', SVC(kernel='linear', random_state=42))\n",
    "    ]),\n",
    "    'Random Forest': ImbPipeline([\n",
    "        ('preprocessor', preprocessor),\n",
    "        ('smote', SMOTE(random_state=42)),\n",
    "        ('classifier', RandomForestClassifier(random_state=42))\n",
    "    ]),\n",
    "    'XGBoost': ImbPipeline([\n",
    "        ('preprocessor', preprocessor),\n",
    "        ('smote', SMOTE(random_state=42)),\n",
    "        ('classifier', XGBClassifier(\n",
    "            eval_metric='logloss',\n",
    "            random_state=42\n",
    "        ))])\n",
    "}\n",
    "\n",
    "# Evaluation with consistent methodology\n",
    "results = []\n",
    "for name, pipeline in models.items():\n",
    "    scores = cross_val_score(pipeline, X, y, cv=cv, scoring=scorer, n_jobs=-1)\n",
    "    for fold_idx, score in enumerate(scores, 1):\n",
    "        results.append({\n",
    "            'Model': name,\n",
    "            'Fold': f'Fold {fold_idx}',\n",
    "            'F1 Score': score\n",
    "        })\n",
    "\n",
    "results_df = pd.DataFrame(results)\n",
    "\n",
    "# Boxplots visualisation\n",
    "plt.figure(figsize=(12, 6))\n",
    "sns.boxplot(x='Model', y='F1 Score', data=results_df, palette='Set2', \n",
    "           showmeans=True,\n",
    "           meanprops={'marker':'o', 'markerfacecolor':'white', 'markeredgecolor':'red'})\n",
    "sns.stripplot(x='Model', y='F1 Score', data=results_df, color='black', alpha=0.5, jitter=0.1)\n",
    "plt.title('Model Comparison (5-fold CV with SMOTE)')\n",
    "plt.xticks(rotation=15)\n",
    "plt.grid(axis='y', linestyle='--', alpha=0.3)\n",
    "plt.tight_layout()\n",
    "plt.show()"
   ]
  }
 ],
 "metadata": {
  "kernelspec": {
   "display_name": "Python 3 (ipykernel)",
   "language": "python",
   "name": "python3"
  },
  "language_info": {
   "codemirror_mode": {
    "name": "ipython",
    "version": 3
   },
   "file_extension": ".py",
   "mimetype": "text/x-python",
   "name": "python",
   "nbconvert_exporter": "python",
   "pygments_lexer": "ipython3",
   "version": "3.12.4"
  }
 },
 "nbformat": 4,
 "nbformat_minor": 5
}
